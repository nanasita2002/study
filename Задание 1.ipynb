{
  "nbformat": 4,
  "nbformat_minor": 0,
  "metadata": {
    "colab": {
      "provenance": []
    },
    "kernelspec": {
      "name": "python3",
      "display_name": "Python 3"
    },
    "language_info": {
      "name": "python"
    }
  },
  "cells": [
    {
      "cell_type": "code",
      "execution_count": null,
      "metadata": {
        "id": "0wWlK_UuxPnP"
      },
      "outputs": [],
      "source": []
    },
    {
      "cell_type": "code",
      "source": [
        "def find_min_max(numbers):\n",
        "    \"\"\"\n",
        "    Функция принимает список чисел и возвращает список из двух значений:\n",
        "    максимального и минимального.\n",
        "    \"\"\"\n",
        "    if not numbers:  # Проверяем, что список не пустой\n",
        "        return None # Если список пустой, возвращаем None\n",
        "\n",
        "\n",
        "    # Обе переменные получают значение первого элемента списка с индексом 0\n",
        "    min_num = max_num = numbers[0]\n",
        "\n",
        "\n",
        "    # Проходим по каждому числу в списке\n",
        "    for num in numbers:\n",
        "        if num < min_num:  # Если текущее число меньше текущего минимума\n",
        "            min_num = num  # Обновляем минимум\n",
        "        if num > max_num:  # Если текущее число больше текущего максимума\n",
        "            max_num = num  # Обновляем максимум\n",
        "\n",
        "\n",
        "    # Возвращаем результат в виде списка\n",
        "    return [max_num, min_num]\n",
        "\n",
        "    # Принимаем числа от пользователя\n",
        "user_input = input(\"Введите числа через запятую: \")\n",
        "# Преобразуем строку в список чисел\n",
        "numbers = [int(num.strip()) for num in user_input.split(\",\")]\n",
        "\n",
        "# Вызываем функцию и выводим результат\n",
        "result = find_min_max(numbers)\n",
        "if result:\n",
        "  print(f\"Максимальное число: {result[0]}\")\n",
        "  print(f\"Минимальное число: {result[1]}\")\n",
        "else:\n",
        "  print(\"Список пустой!\")\n"
      ],
      "metadata": {
        "id": "XCqK_XiXoMoP",
        "outputId": "574622e6-e093-4efc-bb06-517f6d0790d7",
        "colab": {
          "base_uri": "https://localhost:8080/"
        }
      },
      "execution_count": null,
      "outputs": [
        {
          "output_type": "stream",
          "name": "stdout",
          "text": [
            "Введите числа через запятую: 1,4,2344,6,7\n",
            "Максимальное число: 2344\n",
            "Минимальное число: 1\n"
          ]
        }
      ]
    },
    {
      "cell_type": "code",
      "source": [],
      "metadata": {
        "id": "USdCbVuHxX2Z"
      },
      "execution_count": null,
      "outputs": []
    },
    {
      "cell_type": "code",
      "source": [
        "# Определяем функцию, которая принимает список и число, и возвращает список чисел больше заданного\n",
        "def filter_greater_numbers(numbers, threshold):\n",
        "    result = []  # Создаем пустой список для хранения чисел, которые больше threshold\n",
        "    for number in numbers:  # Проходим по каждому числу в списке\n",
        "        if number > threshold:  # Если число больше threshold\n",
        "            result.append(number)  # Добавляем его в список result\n",
        "    return result  # Возвращаем список result\n",
        "\n",
        "# Пользователь вводит числа через пробел, и мы преобразуем их в список целых чисел\n",
        "user_input = input(\"Введите числа через пробел: \")\n",
        "numbers = list(map(int, user_input.split()))\n",
        "\n",
        "# Получаем пороговое значение от пользователя\n",
        "threshold = int(input(\"Введите пороговое значение: \"))\n",
        "\n",
        "# Вызываем функцию и передаем ей список и пороговое значение\n",
        "filtered_numbers = filter_greater_numbers(numbers, threshold)\n",
        "\n",
        "# Выводим результат\n",
        "print(\"Числа больше порогового значения:\", filtered_numbers)"
      ],
      "metadata": {
        "id": "daKNuqFvsCae",
        "outputId": "1faeaa45-2239-4d0e-cdf4-89ef707f857d",
        "colab": {
          "base_uri": "https://localhost:8080/"
        }
      },
      "execution_count": null,
      "outputs": [
        {
          "output_type": "stream",
          "name": "stdout",
          "text": [
            "Введите числа через пробел: 1 3 6 66 3 5 \n",
            "Введите пороговое значение: 5\n",
            "Числа больше порогового значения: [6, 66]\n"
          ]
        }
      ]
    },
    {
      "cell_type": "code",
      "source": [],
      "metadata": {
        "id": "5KWRJAqUxbIt"
      },
      "execution_count": null,
      "outputs": []
    },
    {
      "cell_type": "code",
      "source": [
        "# Запрашиваем у пользователя срок кредита в месяцах\n",
        "loan_term = int(input(\"Введите срок кредита в месяцах: \"))\n",
        "\n",
        "# Запрашиваем у пользователя сумму кредита\n",
        "loan_amount = float(input(\"Введите сумму кредита: \"))\n",
        "\n",
        "if loan_term <= 6:  # Если срок кредита до 6 месяцев включительно\n",
        "    # Рассчитываем переплату (5% от суммы кредита)\n",
        "    overpayment = loan_amount * 0.05\n",
        "    # Рассчитываем общую сумму к выплате\n",
        "    total_amount = loan_amount + overpayment\n",
        "    # Рассчитываем ежемесячный платёж\n",
        "    monthly_payment = total_amount / loan_term\n",
        "    print(f\"Ежемесячный платёж: {monthly_payment:.2f} (переплата 5%)\")\n",
        "elif loan_term <= 12:  # Если срок кредита до года включительно\n",
        "    # Рассчитываем переплату (10% от суммы кредита)\n",
        "    overpayment = loan_amount * 0.10\n",
        "    # Рассчитываем общую сумму к выплате\n",
        "    total_amount = loan_amount + overpayment\n",
        "    # Рассчитываем ежемесячный платёж\n",
        "    monthly_payment = total_amount / loan_term\n",
        "    print(f\"Ежемесячный платёж: {monthly_payment:.2f} (переплата 10%)\")\n",
        "else:  # Если срок кредита больше года\n",
        "    print(\"Кредит на срок более года не выдаётся.\")"
      ],
      "metadata": {
        "id": "AGwlWNV3um9t",
        "outputId": "4cf1048b-ec80-4813-95ad-64fcb6ef9783",
        "colab": {
          "base_uri": "https://localhost:8080/"
        }
      },
      "execution_count": null,
      "outputs": [
        {
          "output_type": "stream",
          "name": "stdout",
          "text": [
            "Введите срок кредита в месяцах: 12\n",
            "Введите сумму кредита: 473882\n",
            "Ежемесячный платёж: 43439.18 (переплата 10%)\n"
          ]
        }
      ]
    },
    {
      "cell_type": "code",
      "source": [],
      "metadata": {
        "id": "0daPnqFSxfFK"
      },
      "execution_count": null,
      "outputs": []
    },
    {
      "cell_type": "code",
      "source": [
        "# Запрашиваем у пользователя значение N\n",
        "N = int(input(\"Введите значение N (верхняя граница): \"))\n",
        "\n",
        "# Запрашиваем у пользователя значение K\n",
        "K = int(input(\"Введите значение K (делитель): \"))\n",
        "\n",
        "# Используем цикл for для перебора чисел от 0 до N (включительно)\n",
        "for number in range(0, N + 1):  # range(0, N + 1) создаёт последовательность от 0 до N включительно\n",
        "    if number % K == 0:  # Проверяем, делится ли число на K без остатка\n",
        "        print(number)  # Если делится, выводим это число"
      ],
      "metadata": {
        "id": "s6HM1Ivsv5yQ",
        "outputId": "4d9fc33c-0c94-4bfa-e00b-def17c9cd613",
        "colab": {
          "base_uri": "https://localhost:8080/"
        }
      },
      "execution_count": null,
      "outputs": [
        {
          "output_type": "stream",
          "name": "stdout",
          "text": [
            "Введите значение N (верхняя граница): 16\n",
            "Введите значение K (делитель): 4\n",
            "0\n",
            "4\n",
            "8\n",
            "12\n",
            "16\n"
          ]
        }
      ]
    }
  ]
}