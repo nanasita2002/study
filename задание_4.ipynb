{
  "nbformat": 4,
  "nbformat_minor": 0,
  "metadata": {
    "colab": {
      "provenance": []
    },
    "kernelspec": {
      "name": "python3",
      "display_name": "Python 3"
    },
    "language_info": {
      "name": "python"
    }
  },
  "cells": [
    {
      "cell_type": "code",
      "source": [
        "\n",
        "import requests\n",
        "from bs4 import BeautifulSoup\n",
        "import pandas as pd\n",
        "\n",
        "# URL сайта\n",
        "url = \"https://auto.drom.ru/region77/premium/\"\n",
        "# Отправляем GET-запрос к сайту\n",
        "response = requests.get(url)\n",
        "\n",
        "# Проверяем статус ответа\n",
        "if response.status_code == 200:\n",
        "    print(\"Успешное подключение к сайту!\")\n",
        "else:\n",
        "    print(f\"Ошибка подключения: {response.status_code}\")\n",
        "    exit()\n",
        "\n",
        "# Создаем объект BeautifulSoup для разбора HTML\n",
        "soup = BeautifulSoup(response.text, \"html.parser\")\n",
        "\n",
        "# Список для хранения данных\n",
        "cars_data = []\n",
        "\n",
        "# Находим все контейнеры с объявлениями автомобилей\n",
        "offers = soup.find_all(\"div\", class_=\"css-12lf65q e3qgya0\")\n",
        "\n",
        "# Извлекаем данные о марке автомобиля и стоимости\n",
        "for offer in offers:\n",
        "    try:\n",
        "        # Находим название автомобиля\n",
        "        car_name = offer.find_all(\"span\", class_=\"css-1t71ine e16zdi0i0\")\n",
        "        # Находим стоимость автомобиля\n",
        "        car_price = offer.find_all(\"div\", class_=\"css-luilqb egua2dj0\")\n",
        "\n",
        "        # Добавляем данные в список\n",
        "        cars_data.append({\"Марка автомобиля\": car_name, \"Стоимость\": car_price})\n",
        "    except AttributeError:\n",
        "        # Если данные не найдены,то пропускаем\n",
        "        continue\n",
        "\n",
        "# Создаем DataFrame из списка\n",
        "df = pd.DataFrame(cars_data)\n",
        "\n",
        "# Выводим DataFrame\n",
        "print(df)\n",
        "\n",
        "\n",
        "\n"
      ],
      "metadata": {
        "colab": {
          "base_uri": "https://localhost:8080/"
        },
        "id": "wweZonXthYAE",
        "outputId": "36f6946a-a213-4205-c4a3-365bbc62e232"
      },
      "execution_count": 17,
      "outputs": [
        {
          "output_type": "stream",
          "name": "stdout",
          "text": [
            "Успешное подключение к сайту!\n",
            "                                    Марка автомобиля  \\\n",
            "0  [[Mazda CX-5 2012], [УАЗ Буханка 2022], [Nissa...   \n",
            "\n",
            "                                           Стоимость  \n",
            "0  [[1 800 000,  ,  ,  , ₽], [1 630 000,  ,  ,  ,...  \n"
          ]
        }
      ]
    }
  ]
}