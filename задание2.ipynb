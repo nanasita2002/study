{
  "nbformat": 4,
  "nbformat_minor": 0,
  "metadata": {
    "colab": {
      "provenance": []
    },
    "kernelspec": {
      "name": "python3",
      "display_name": "Python 3"
    },
    "language_info": {
      "name": "python"
    }
  },
  "cells": [
    {
      "cell_type": "code",
      "source": [
        "import pandas as pd\n",
        "games = pd.read_csv(\"/content/drive/MyDrive/Аналитик_обучение/computer_games.csv\")\n",
        "# Функция для поиска игр по названию\n",
        "def search_games_by_name(games, search_query):\n",
        "    # Приводим запрос к нижнему регистру для нечувствительности к регистру\n",
        "    search_query = search_query.lower()\n",
        "\n",
        "    # Фильтруем строки, где подстрока найдена в столбце 'name'\n",
        "    matching_games = games[games['Name'].str.lower().apply(lambda x: x.find(search_query) != -1)]\n",
        "\n",
        "    # Если найдены совпадения, выводим их\n",
        "    if not matching_games.empty:\n",
        "        print(\"Найденные игры:\")\n",
        "        print(matching_games)\n",
        "    else:\n",
        "        print(\"Совпадений не найдено.\")\n",
        "\n",
        "# Пример использования функции\n",
        "search_query = \"beam\"  # Название или часть названия игры\n",
        "search_games_by_name(games, search_query)"
      ],
      "metadata": {
        "colab": {
          "base_uri": "https://localhost:8080/"
        },
        "id": "2sRxqT-QF2M-",
        "outputId": "8060c188-8674-4b5e-b198-39e3477428dc"
      },
      "execution_count": 46,
      "outputs": [
        {
          "output_type": "stream",
          "name": "stdout",
          "text": [
            "Найденные игры:\n",
            "              Name              Developer                     Producer  \\\n",
            "190  Beam Breakers  Similis Software GmbH  JoWooD Productions Software   \n",
            "191   BeamNG.drive            BeamNG GmbH                  BeamNG GmbH   \n",
            "\n",
            "                  Genre   Operating System     Date Released  \n",
            "190   Futuristic racing  Microsoft Windows  October 31, 2002  \n",
            "191  Vehicle simulation  Microsoft Windows      May 29, 2015  \n"
          ]
        }
      ]
    },
    {
      "cell_type": "code",
      "source": [
        "\n",
        "# Функция для поиска игр конкретного разработчика\n",
        "def search_games_by_developer(games, developer_name):\n",
        "    developer_name = developer_name.lower()\n",
        "\n",
        "    # Фильтруем строки, где столбец 'developer' совпадает с указанным разработчиком\n",
        "    matching_dev = games[games['Developer'].str.lower() == developer_name]\n",
        "\n",
        "    # Возвращаем новый DataFrame с играми разработчика\n",
        "    return matching_dev\n",
        "\n",
        "# Пример использования функции\n",
        "developer_name = \"ciel\"  # Имя разработчика\n",
        "result = search_games_by_developer(games, developer_name)\n",
        "\n",
        "# Вывод результата\n",
        "print(result)"
      ],
      "metadata": {
        "colab": {
          "base_uri": "https://localhost:8080/"
        },
        "id": "um12CeBjHz3T",
        "outputId": "f4b085c8-e2e3-41f0-9637-c90adedd58da"
      },
      "execution_count": 51,
      "outputs": [
        {
          "output_type": "stream",
          "name": "stdout",
          "text": [
            "        Name Developer Producer         Genre   Operating System  \\\n",
            "60  After...      Ciel     Ciel  Visual novel  Microsoft Windows   \n",
            "\n",
            "    Date Released  \n",
            "60  June 27, 2003  \n"
          ]
        }
      ]
    }
  ]
}