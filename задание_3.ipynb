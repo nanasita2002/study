{
  "nbformat": 4,
  "nbformat_minor": 0,
  "metadata": {
    "colab": {
      "provenance": []
    },
    "kernelspec": {
      "name": "python3",
      "display_name": "Python 3"
    },
    "language_info": {
      "name": "python"
    }
  },
  "cells": [
    {
      "cell_type": "code",
      "execution_count": 27,
      "metadata": {
        "collapsed": true,
        "id": "p_nwJ32B_O40"
      },
      "outputs": [],
      "source": [
        "import pandas as pd\n",
        "df = pd.read_csv('/content/drive/MyDrive/Аналитик_обучение/Uber.csv')"
      ]
    },
    {
      "cell_type": "code",
      "source": [
        "df = df.dropna() #Удаление строк с пустыми значениями\n",
        "df['PuFrom'] = df['PuFrom'].str.lower() #Приведение данных столбца PuFrom к одному виду - к нижнему регистру\n",
        "\n",
        "# Шаг 1: Заменить \":\" на \".\"\n",
        "df['Time'] = df['Time'].astype(str).str.replace(':', '.')\n",
        "# Шаг 2: Преобразовать в float\n",
        "df['Time'] = df['Time'].astype(float)\n",
        "\n",
        "\n",
        "# Преобразование дробной части числа (после точки) в десятичные минуты\n",
        "df['Time'] = df['Time'].astype(float).apply(lambda x: int(x) + round((x - int(x)) * 100 / 60, 2))\n",
        "\n",
        "\n",
        "print(df)\n"
      ],
      "metadata": {
        "colab": {
          "base_uri": "https://localhost:8080/"
        },
        "id": "3IlEJT_qHmk1",
        "outputId": "3cb00170-5539-4fb4-a607-6691176c7fd5"
      },
      "execution_count": 28,
      "outputs": [
        {
          "output_type": "stream",
          "name": "stdout",
          "text": [
            "              Date   Time                                              State  \\\n",
            "0       2014.07.06  14.50  NY                                            ...   \n",
            "1       2014.07.04   7.25  NY                                            ...   \n",
            "2       2014.07.05   5.75  NY                                            ...   \n",
            "3       2014.07.06   4.50  NY                                            ...   \n",
            "4       2014.07.05   7.75  NY                                            ...   \n",
            "...            ...    ...                                                ...   \n",
            "194986  2014.09.29   6.00  NJ                                            ...   \n",
            "194987  2014.09.28  21.83  JFK DELTA TERM 4  P/U AREA C                  ...   \n",
            "194988  2014.09.28   7.00  NY                                            ...   \n",
            "194989  2014.09.28  15.50  NY                                            ...   \n",
            "194991  2014.09.08   9.75  NY                                            ...   \n",
            "\n",
            "           PuFrom Address                Street  \n",
            "0       manhattan      50  MURRAY ST             \n",
            "1       manhattan     143  AVENUE B              \n",
            "2       manhattan     125  CHRISTOPHER ST        \n",
            "3       manhattan     217  E 7 ST                \n",
            "4       manhattan     521  W 26 ST               \n",
            "...           ...     ...                   ...  \n",
            "194986  ridgewood     756  BELMONT RD            \n",
            "194987        jfk                                \n",
            "194988  manhattan     112  W 78 ST               \n",
            "194989  manhattan     601  W 57 ST               \n",
            "194991  manhattan     415  W 24 ST               \n",
            "\n",
            "[157962 rows x 6 columns]\n"
          ]
        }
      ]
    }
  ]
}